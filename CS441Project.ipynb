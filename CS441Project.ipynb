{
  "nbformat": 4,
  "nbformat_minor": 0,
  "metadata": {
    "colab": {
      "provenance": [],
      "gpuType": "T4"
    },
    "kernelspec": {
      "name": "python3",
      "display_name": "Python 3"
    },
    "language_info": {
      "name": "python"
    },
    "accelerator": "GPU"
  },
  "cells": [
    {
      "cell_type": "markdown",
      "source": [
        "# Project Overview\n",
        "\n",
        "This project aims to predict house sale prices using machine learning models. We utilize the Kaggle House Prices dataset, performing data preprocessing, feature engineering, model selection, hyperparameter tuning, and evaluation to achieve the best predictive performance.\n",
        "\n",
        "Dataset Source: https://www.kaggle.com/competitions/house-prices-advanced-regression-techniques\n",
        "\n",
        "Author: Jiaxin Liu\n",
        "\n"
      ],
      "metadata": {
        "id": "3db_BbvbLeUB"
      }
    },
    {
      "cell_type": "code",
      "execution_count": 36,
      "metadata": {
        "id": "Knz8huI6ubHV"
      },
      "outputs": [],
      "source": [
        "import pandas as pd\n",
        "import matplotlib.pyplot as plt\n",
        "import seaborn as sns\n",
        "import numpy as np\n",
        "from scipy.stats import skew, norm\n",
        "\n",
        "from sklearn.metrics import mean_squared_error\n",
        "from sklearn.metrics import mean_absolute_error\n",
        "from sklearn.metrics import make_scorer\n",
        "from sklearn.model_selection import cross_val_score\n",
        "from sklearn.model_selection import train_test_split\n",
        "from sklearn.model_selection import GridSearchCV\n",
        "\n",
        "from sklearn.ensemble import RandomForestRegressor\n",
        "from sklearn.linear_model import LinearRegression\n",
        "from sklearn.linear_model import Ridge\n",
        "from sklearn.ensemble import GradientBoostingRegressor"
      ]
    },
    {
      "cell_type": "code",
      "source": [
        "# Function to load training and test data\n",
        "def load_data(train_path, test_path):\n",
        "    train = pd.read_csv(train_path)\n",
        "    test = pd.read_csv(test_path)\n",
        "    return train, test\n",
        "\n",
        "# Load the data\n",
        "train, test = load_data(\"train.csv\", \"test.csv\")\n",
        "\n",
        "# Display the shape of the datasets\n",
        "print(\"Training set shape:\", train.shape)\n",
        "print(\"Test set shape:\", test.shape)\n"
      ],
      "metadata": {
        "colab": {
          "base_uri": "https://localhost:8080/"
        },
        "id": "TA6IkW1iyoa9",
        "outputId": "0a6e8b5b-c5f7-47c6-e2d5-2905321e0ce4"
      },
      "execution_count": 20,
      "outputs": [
        {
          "output_type": "stream",
          "name": "stdout",
          "text": [
            "Training set shape: (1460, 81)\n",
            "Test set shape: (1459, 80)\n"
          ]
        }
      ]
    },
    {
      "cell_type": "code",
      "source": [
        "# Display the first few rows of the training data\n",
        "train.head()"
      ],
      "metadata": {
        "colab": {
          "base_uri": "https://localhost:8080/",
          "height": 255
        },
        "id": "NNihVPUByx6m",
        "outputId": "5dfa98b4-153a-4ff4-b4a2-c714b69683ab"
      },
      "execution_count": 21,
      "outputs": [
        {
          "output_type": "execute_result",
          "data": {
            "text/plain": [
              "   Id  MSSubClass MSZoning  LotFrontage  LotArea Street Alley LotShape  \\\n",
              "0   1          60       RL         65.0     8450   Pave   NaN      Reg   \n",
              "1   2          20       RL         80.0     9600   Pave   NaN      Reg   \n",
              "2   3          60       RL         68.0    11250   Pave   NaN      IR1   \n",
              "3   4          70       RL         60.0     9550   Pave   NaN      IR1   \n",
              "4   5          60       RL         84.0    14260   Pave   NaN      IR1   \n",
              "\n",
              "  LandContour Utilities  ... PoolArea PoolQC Fence MiscFeature MiscVal MoSold  \\\n",
              "0         Lvl    AllPub  ...        0    NaN   NaN         NaN       0      2   \n",
              "1         Lvl    AllPub  ...        0    NaN   NaN         NaN       0      5   \n",
              "2         Lvl    AllPub  ...        0    NaN   NaN         NaN       0      9   \n",
              "3         Lvl    AllPub  ...        0    NaN   NaN         NaN       0      2   \n",
              "4         Lvl    AllPub  ...        0    NaN   NaN         NaN       0     12   \n",
              "\n",
              "  YrSold  SaleType  SaleCondition  SalePrice  \n",
              "0   2008        WD         Normal     208500  \n",
              "1   2007        WD         Normal     181500  \n",
              "2   2008        WD         Normal     223500  \n",
              "3   2006        WD        Abnorml     140000  \n",
              "4   2008        WD         Normal     250000  \n",
              "\n",
              "[5 rows x 81 columns]"
            ],
            "text/html": [
              "\n",
              "  <div id=\"df-f21f69a9-a8a4-4c52-8800-46435d876b37\" class=\"colab-df-container\">\n",
              "    <div>\n",
              "<style scoped>\n",
              "    .dataframe tbody tr th:only-of-type {\n",
              "        vertical-align: middle;\n",
              "    }\n",
              "\n",
              "    .dataframe tbody tr th {\n",
              "        vertical-align: top;\n",
              "    }\n",
              "\n",
              "    .dataframe thead th {\n",
              "        text-align: right;\n",
              "    }\n",
              "</style>\n",
              "<table border=\"1\" class=\"dataframe\">\n",
              "  <thead>\n",
              "    <tr style=\"text-align: right;\">\n",
              "      <th></th>\n",
              "      <th>Id</th>\n",
              "      <th>MSSubClass</th>\n",
              "      <th>MSZoning</th>\n",
              "      <th>LotFrontage</th>\n",
              "      <th>LotArea</th>\n",
              "      <th>Street</th>\n",
              "      <th>Alley</th>\n",
              "      <th>LotShape</th>\n",
              "      <th>LandContour</th>\n",
              "      <th>Utilities</th>\n",
              "      <th>...</th>\n",
              "      <th>PoolArea</th>\n",
              "      <th>PoolQC</th>\n",
              "      <th>Fence</th>\n",
              "      <th>MiscFeature</th>\n",
              "      <th>MiscVal</th>\n",
              "      <th>MoSold</th>\n",
              "      <th>YrSold</th>\n",
              "      <th>SaleType</th>\n",
              "      <th>SaleCondition</th>\n",
              "      <th>SalePrice</th>\n",
              "    </tr>\n",
              "  </thead>\n",
              "  <tbody>\n",
              "    <tr>\n",
              "      <th>0</th>\n",
              "      <td>1</td>\n",
              "      <td>60</td>\n",
              "      <td>RL</td>\n",
              "      <td>65.0</td>\n",
              "      <td>8450</td>\n",
              "      <td>Pave</td>\n",
              "      <td>NaN</td>\n",
              "      <td>Reg</td>\n",
              "      <td>Lvl</td>\n",
              "      <td>AllPub</td>\n",
              "      <td>...</td>\n",
              "      <td>0</td>\n",
              "      <td>NaN</td>\n",
              "      <td>NaN</td>\n",
              "      <td>NaN</td>\n",
              "      <td>0</td>\n",
              "      <td>2</td>\n",
              "      <td>2008</td>\n",
              "      <td>WD</td>\n",
              "      <td>Normal</td>\n",
              "      <td>208500</td>\n",
              "    </tr>\n",
              "    <tr>\n",
              "      <th>1</th>\n",
              "      <td>2</td>\n",
              "      <td>20</td>\n",
              "      <td>RL</td>\n",
              "      <td>80.0</td>\n",
              "      <td>9600</td>\n",
              "      <td>Pave</td>\n",
              "      <td>NaN</td>\n",
              "      <td>Reg</td>\n",
              "      <td>Lvl</td>\n",
              "      <td>AllPub</td>\n",
              "      <td>...</td>\n",
              "      <td>0</td>\n",
              "      <td>NaN</td>\n",
              "      <td>NaN</td>\n",
              "      <td>NaN</td>\n",
              "      <td>0</td>\n",
              "      <td>5</td>\n",
              "      <td>2007</td>\n",
              "      <td>WD</td>\n",
              "      <td>Normal</td>\n",
              "      <td>181500</td>\n",
              "    </tr>\n",
              "    <tr>\n",
              "      <th>2</th>\n",
              "      <td>3</td>\n",
              "      <td>60</td>\n",
              "      <td>RL</td>\n",
              "      <td>68.0</td>\n",
              "      <td>11250</td>\n",
              "      <td>Pave</td>\n",
              "      <td>NaN</td>\n",
              "      <td>IR1</td>\n",
              "      <td>Lvl</td>\n",
              "      <td>AllPub</td>\n",
              "      <td>...</td>\n",
              "      <td>0</td>\n",
              "      <td>NaN</td>\n",
              "      <td>NaN</td>\n",
              "      <td>NaN</td>\n",
              "      <td>0</td>\n",
              "      <td>9</td>\n",
              "      <td>2008</td>\n",
              "      <td>WD</td>\n",
              "      <td>Normal</td>\n",
              "      <td>223500</td>\n",
              "    </tr>\n",
              "    <tr>\n",
              "      <th>3</th>\n",
              "      <td>4</td>\n",
              "      <td>70</td>\n",
              "      <td>RL</td>\n",
              "      <td>60.0</td>\n",
              "      <td>9550</td>\n",
              "      <td>Pave</td>\n",
              "      <td>NaN</td>\n",
              "      <td>IR1</td>\n",
              "      <td>Lvl</td>\n",
              "      <td>AllPub</td>\n",
              "      <td>...</td>\n",
              "      <td>0</td>\n",
              "      <td>NaN</td>\n",
              "      <td>NaN</td>\n",
              "      <td>NaN</td>\n",
              "      <td>0</td>\n",
              "      <td>2</td>\n",
              "      <td>2006</td>\n",
              "      <td>WD</td>\n",
              "      <td>Abnorml</td>\n",
              "      <td>140000</td>\n",
              "    </tr>\n",
              "    <tr>\n",
              "      <th>4</th>\n",
              "      <td>5</td>\n",
              "      <td>60</td>\n",
              "      <td>RL</td>\n",
              "      <td>84.0</td>\n",
              "      <td>14260</td>\n",
              "      <td>Pave</td>\n",
              "      <td>NaN</td>\n",
              "      <td>IR1</td>\n",
              "      <td>Lvl</td>\n",
              "      <td>AllPub</td>\n",
              "      <td>...</td>\n",
              "      <td>0</td>\n",
              "      <td>NaN</td>\n",
              "      <td>NaN</td>\n",
              "      <td>NaN</td>\n",
              "      <td>0</td>\n",
              "      <td>12</td>\n",
              "      <td>2008</td>\n",
              "      <td>WD</td>\n",
              "      <td>Normal</td>\n",
              "      <td>250000</td>\n",
              "    </tr>\n",
              "  </tbody>\n",
              "</table>\n",
              "<p>5 rows × 81 columns</p>\n",
              "</div>\n",
              "    <div class=\"colab-df-buttons\">\n",
              "\n",
              "  <div class=\"colab-df-container\">\n",
              "    <button class=\"colab-df-convert\" onclick=\"convertToInteractive('df-f21f69a9-a8a4-4c52-8800-46435d876b37')\"\n",
              "            title=\"Convert this dataframe to an interactive table.\"\n",
              "            style=\"display:none;\">\n",
              "\n",
              "  <svg xmlns=\"http://www.w3.org/2000/svg\" height=\"24px\" viewBox=\"0 -960 960 960\">\n",
              "    <path d=\"M120-120v-720h720v720H120Zm60-500h600v-160H180v160Zm220 220h160v-160H400v160Zm0 220h160v-160H400v160ZM180-400h160v-160H180v160Zm440 0h160v-160H620v160ZM180-180h160v-160H180v160Zm440 0h160v-160H620v160Z\"/>\n",
              "  </svg>\n",
              "    </button>\n",
              "\n",
              "  <style>\n",
              "    .colab-df-container {\n",
              "      display:flex;\n",
              "      gap: 12px;\n",
              "    }\n",
              "\n",
              "    .colab-df-convert {\n",
              "      background-color: #E8F0FE;\n",
              "      border: none;\n",
              "      border-radius: 50%;\n",
              "      cursor: pointer;\n",
              "      display: none;\n",
              "      fill: #1967D2;\n",
              "      height: 32px;\n",
              "      padding: 0 0 0 0;\n",
              "      width: 32px;\n",
              "    }\n",
              "\n",
              "    .colab-df-convert:hover {\n",
              "      background-color: #E2EBFA;\n",
              "      box-shadow: 0px 1px 2px rgba(60, 64, 67, 0.3), 0px 1px 3px 1px rgba(60, 64, 67, 0.15);\n",
              "      fill: #174EA6;\n",
              "    }\n",
              "\n",
              "    .colab-df-buttons div {\n",
              "      margin-bottom: 4px;\n",
              "    }\n",
              "\n",
              "    [theme=dark] .colab-df-convert {\n",
              "      background-color: #3B4455;\n",
              "      fill: #D2E3FC;\n",
              "    }\n",
              "\n",
              "    [theme=dark] .colab-df-convert:hover {\n",
              "      background-color: #434B5C;\n",
              "      box-shadow: 0px 1px 3px 1px rgba(0, 0, 0, 0.15);\n",
              "      filter: drop-shadow(0px 1px 2px rgba(0, 0, 0, 0.3));\n",
              "      fill: #FFFFFF;\n",
              "    }\n",
              "  </style>\n",
              "\n",
              "    <script>\n",
              "      const buttonEl =\n",
              "        document.querySelector('#df-f21f69a9-a8a4-4c52-8800-46435d876b37 button.colab-df-convert');\n",
              "      buttonEl.style.display =\n",
              "        google.colab.kernel.accessAllowed ? 'block' : 'none';\n",
              "\n",
              "      async function convertToInteractive(key) {\n",
              "        const element = document.querySelector('#df-f21f69a9-a8a4-4c52-8800-46435d876b37');\n",
              "        const dataTable =\n",
              "          await google.colab.kernel.invokeFunction('convertToInteractive',\n",
              "                                                    [key], {});\n",
              "        if (!dataTable) return;\n",
              "\n",
              "        const docLinkHtml = 'Like what you see? Visit the ' +\n",
              "          '<a target=\"_blank\" href=https://colab.research.google.com/notebooks/data_table.ipynb>data table notebook</a>'\n",
              "          + ' to learn more about interactive tables.';\n",
              "        element.innerHTML = '';\n",
              "        dataTable['output_type'] = 'display_data';\n",
              "        await google.colab.output.renderOutput(dataTable, element);\n",
              "        const docLink = document.createElement('div');\n",
              "        docLink.innerHTML = docLinkHtml;\n",
              "        element.appendChild(docLink);\n",
              "      }\n",
              "    </script>\n",
              "  </div>\n",
              "\n",
              "\n",
              "<div id=\"df-dfbbff0a-0837-4c5c-b79b-bcdf94a6d8a1\">\n",
              "  <button class=\"colab-df-quickchart\" onclick=\"quickchart('df-dfbbff0a-0837-4c5c-b79b-bcdf94a6d8a1')\"\n",
              "            title=\"Suggest charts\"\n",
              "            style=\"display:none;\">\n",
              "\n",
              "<svg xmlns=\"http://www.w3.org/2000/svg\" height=\"24px\"viewBox=\"0 0 24 24\"\n",
              "     width=\"24px\">\n",
              "    <g>\n",
              "        <path d=\"M19 3H5c-1.1 0-2 .9-2 2v14c0 1.1.9 2 2 2h14c1.1 0 2-.9 2-2V5c0-1.1-.9-2-2-2zM9 17H7v-7h2v7zm4 0h-2V7h2v10zm4 0h-2v-4h2v4z\"/>\n",
              "    </g>\n",
              "</svg>\n",
              "  </button>\n",
              "\n",
              "<style>\n",
              "  .colab-df-quickchart {\n",
              "      --bg-color: #E8F0FE;\n",
              "      --fill-color: #1967D2;\n",
              "      --hover-bg-color: #E2EBFA;\n",
              "      --hover-fill-color: #174EA6;\n",
              "      --disabled-fill-color: #AAA;\n",
              "      --disabled-bg-color: #DDD;\n",
              "  }\n",
              "\n",
              "  [theme=dark] .colab-df-quickchart {\n",
              "      --bg-color: #3B4455;\n",
              "      --fill-color: #D2E3FC;\n",
              "      --hover-bg-color: #434B5C;\n",
              "      --hover-fill-color: #FFFFFF;\n",
              "      --disabled-bg-color: #3B4455;\n",
              "      --disabled-fill-color: #666;\n",
              "  }\n",
              "\n",
              "  .colab-df-quickchart {\n",
              "    background-color: var(--bg-color);\n",
              "    border: none;\n",
              "    border-radius: 50%;\n",
              "    cursor: pointer;\n",
              "    display: none;\n",
              "    fill: var(--fill-color);\n",
              "    height: 32px;\n",
              "    padding: 0;\n",
              "    width: 32px;\n",
              "  }\n",
              "\n",
              "  .colab-df-quickchart:hover {\n",
              "    background-color: var(--hover-bg-color);\n",
              "    box-shadow: 0 1px 2px rgba(60, 64, 67, 0.3), 0 1px 3px 1px rgba(60, 64, 67, 0.15);\n",
              "    fill: var(--button-hover-fill-color);\n",
              "  }\n",
              "\n",
              "  .colab-df-quickchart-complete:disabled,\n",
              "  .colab-df-quickchart-complete:disabled:hover {\n",
              "    background-color: var(--disabled-bg-color);\n",
              "    fill: var(--disabled-fill-color);\n",
              "    box-shadow: none;\n",
              "  }\n",
              "\n",
              "  .colab-df-spinner {\n",
              "    border: 2px solid var(--fill-color);\n",
              "    border-color: transparent;\n",
              "    border-bottom-color: var(--fill-color);\n",
              "    animation:\n",
              "      spin 1s steps(1) infinite;\n",
              "  }\n",
              "\n",
              "  @keyframes spin {\n",
              "    0% {\n",
              "      border-color: transparent;\n",
              "      border-bottom-color: var(--fill-color);\n",
              "      border-left-color: var(--fill-color);\n",
              "    }\n",
              "    20% {\n",
              "      border-color: transparent;\n",
              "      border-left-color: var(--fill-color);\n",
              "      border-top-color: var(--fill-color);\n",
              "    }\n",
              "    30% {\n",
              "      border-color: transparent;\n",
              "      border-left-color: var(--fill-color);\n",
              "      border-top-color: var(--fill-color);\n",
              "      border-right-color: var(--fill-color);\n",
              "    }\n",
              "    40% {\n",
              "      border-color: transparent;\n",
              "      border-right-color: var(--fill-color);\n",
              "      border-top-color: var(--fill-color);\n",
              "    }\n",
              "    60% {\n",
              "      border-color: transparent;\n",
              "      border-right-color: var(--fill-color);\n",
              "    }\n",
              "    80% {\n",
              "      border-color: transparent;\n",
              "      border-right-color: var(--fill-color);\n",
              "      border-bottom-color: var(--fill-color);\n",
              "    }\n",
              "    90% {\n",
              "      border-color: transparent;\n",
              "      border-bottom-color: var(--fill-color);\n",
              "    }\n",
              "  }\n",
              "</style>\n",
              "\n",
              "  <script>\n",
              "    async function quickchart(key) {\n",
              "      const quickchartButtonEl =\n",
              "        document.querySelector('#' + key + ' button');\n",
              "      quickchartButtonEl.disabled = true;  // To prevent multiple clicks.\n",
              "      quickchartButtonEl.classList.add('colab-df-spinner');\n",
              "      try {\n",
              "        const charts = await google.colab.kernel.invokeFunction(\n",
              "            'suggestCharts', [key], {});\n",
              "      } catch (error) {\n",
              "        console.error('Error during call to suggestCharts:', error);\n",
              "      }\n",
              "      quickchartButtonEl.classList.remove('colab-df-spinner');\n",
              "      quickchartButtonEl.classList.add('colab-df-quickchart-complete');\n",
              "    }\n",
              "    (() => {\n",
              "      let quickchartButtonEl =\n",
              "        document.querySelector('#df-dfbbff0a-0837-4c5c-b79b-bcdf94a6d8a1 button');\n",
              "      quickchartButtonEl.style.display =\n",
              "        google.colab.kernel.accessAllowed ? 'block' : 'none';\n",
              "    })();\n",
              "  </script>\n",
              "</div>\n",
              "\n",
              "    </div>\n",
              "  </div>\n"
            ],
            "application/vnd.google.colaboratory.intrinsic+json": {
              "type": "dataframe",
              "variable_name": "train"
            }
          },
          "metadata": {},
          "execution_count": 21
        }
      ]
    },
    {
      "cell_type": "markdown",
      "source": [
        "## Data Preprocessing and Feature Engineering\n",
        "#### Handling Missing Values"
      ],
      "metadata": {
        "id": "l0SwcwHcLwHL"
      }
    },
    {
      "cell_type": "code",
      "source": [
        "def handle_missing(features):\n",
        "    \"\"\"\n",
        "    Handles missing values in the dataset by filling them with appropriate statistics or placeholders.\n",
        "    \"\"\"\n",
        "    # Fill missing values based on data description\n",
        "    features['Functional'] = features['Functional'].fillna('Typ')\n",
        "    features['Electrical'] = features['Electrical'].fillna(\"SBrkr\")\n",
        "    features['KitchenQual'] = features['KitchenQual'].fillna(\"TA\")\n",
        "    features['Exterior1st'] = features['Exterior1st'].fillna(features['Exterior1st'].mode()[0])\n",
        "    features['Exterior2nd'] = features['Exterior2nd'].fillna(features['Exterior2nd'].mode()[0])\n",
        "    features['SaleType'] = features['SaleType'].fillna(features['SaleType'].mode()[0])\n",
        "    features['MSZoning'] = features.groupby('MSSubClass')['MSZoning'].transform(lambda x: x.fillna(x.mode()[0]))\n",
        "\n",
        "    # Pool Quality: NA means no pool\n",
        "    features[\"PoolQC\"] = features[\"PoolQC\"].fillna(\"None\")\n",
        "\n",
        "    # Garage: NA means no garage\n",
        "    for col in ['GarageYrBlt', 'GarageArea', 'GarageCars']:\n",
        "        features[col] = features[col].fillna(0)\n",
        "\n",
        "    for col in ['GarageType', 'GarageFinish', 'GarageQual', 'GarageCond']:\n",
        "        features[col] = features[col].fillna('None')\n",
        "\n",
        "    # Basement: NA means no basement\n",
        "    for col in ['BsmtQual', 'BsmtCond', 'BsmtExposure', 'BsmtFinType1', 'BsmtFinType2']:\n",
        "        features[col] = features[col].fillna('None')\n",
        "    features['LotFrontage'] = features.groupby('Neighborhood')['LotFrontage'].transform(lambda x: x.fillna(x.median()))\n",
        "\n",
        "    # Fill remaining categorical features with 'None'\n",
        "    categorical_cols = features.select_dtypes(include=['object']).columns\n",
        "    features[categorical_cols] = features[categorical_cols].fillna('None')\n",
        "    numerical_cols = features.select_dtypes(include=['int16', 'int32', 'int64', 'float16', 'float32', 'float64']).columns\n",
        "    features[numerical_cols] = features[numerical_cols].fillna(0)\n",
        "\n",
        "    return features\n"
      ],
      "metadata": {
        "id": "j7sIfkPTy0aM"
      },
      "execution_count": 23,
      "outputs": []
    },
    {
      "cell_type": "markdown",
      "source": [
        "#### Feature Transformation"
      ],
      "metadata": {
        "id": "66eWtkQgL6IR"
      }
    },
    {
      "cell_type": "code",
      "source": [
        "# Concatenate train and test data for consistent preprocessing\n",
        "all_data = pd.concat([train.drop('SalePrice', axis=1), test], sort=False).reset_index(drop=True)\n",
        "\n",
        "# Handle missing values\n",
        "all_data = handle_missing(all_data)"
      ],
      "metadata": {
        "id": "HXwZ45kHy7XI"
      },
      "execution_count": 24,
      "outputs": []
    },
    {
      "cell_type": "markdown",
      "source": [
        "#### Encoding Categorical Variables"
      ],
      "metadata": {
        "id": "dutV9Vy1L9MB"
      }
    },
    {
      "cell_type": "code",
      "source": [
        "# Convert categorical variables to dummy/indicator variables\n",
        "all_data = pd.get_dummies(all_data).reset_index(drop=True)\n",
        "\n",
        "# Remove any duplicated columns\n",
        "all_data = all_data.loc[:, ~all_data.columns.duplicated()]\n"
      ],
      "metadata": {
        "id": "A-Nohs7ly_Lj"
      },
      "execution_count": 25,
      "outputs": []
    },
    {
      "cell_type": "markdown",
      "source": [
        "#### Log Transformation of Target Variable"
      ],
      "metadata": {
        "id": "eNA_CxPhMBH5"
      }
    },
    {
      "cell_type": "code",
      "source": [
        "# Log-transform the target variable to reduce skewness\n",
        "train[\"SalePrice\"] = np.log1p(train[\"SalePrice\"])\n"
      ],
      "metadata": {
        "id": "Arf3ZGEyzCBK"
      },
      "execution_count": 26,
      "outputs": []
    },
    {
      "cell_type": "markdown",
      "source": [
        "#### Splitting the Data"
      ],
      "metadata": {
        "id": "GYIGfBJ7MD_O"
      }
    },
    {
      "cell_type": "code",
      "source": [
        "def preprocess_data(train, test, test_ratio=0.10):\n",
        "    \"\"\"\n",
        "    Preprocess the data by handling missing values, encoding categorical variables,\n",
        "    and splitting into training and validation sets.\n",
        "    \"\"\"\n",
        "    # Log-transform the target variable\n",
        "    train[\"SalePrice\"] = np.log1p(train[\"SalePrice\"])\n",
        "\n",
        "    # Split the training data into train and validation sets\n",
        "    train_split, val_split = train_test_split(train, test_size=test_ratio, random_state=42)\n",
        "\n",
        "    # Separate features and target\n",
        "    train_labels = train_split['SalePrice'].reset_index(drop=True)\n",
        "    train_features = train_split.drop(['SalePrice'], axis=1)\n",
        "\n",
        "    val_labels = val_split['SalePrice'].reset_index(drop=True)\n",
        "    val_features = val_split.drop(['SalePrice'], axis=1)\n",
        "\n",
        "    test_features = test\n",
        "\n",
        "    all_features = pd.concat([train_features, test_features, val_features]).reset_index(drop=True)\n",
        "    all_features = handle_missing(all_features)\n",
        "    all_features = pd.get_dummies(all_features).reset_index(drop=True)\n",
        "    all_features = all_features.loc[:, ~all_features.columns.duplicated()]\n",
        "\n",
        "    # Split the features back into train, validation, and test sets\n",
        "    TRAIN_COUNT = len(train_features)\n",
        "    TEST_COUNT = len(test_features)\n",
        "    VAL_COUNT = len(val_features)\n",
        "    train_features = all_features.iloc[:TRAIN_COUNT, :]\n",
        "    test_features = all_features.iloc[TRAIN_COUNT:TRAIN_COUNT+TEST_COUNT, :]\n",
        "    val_features = all_features.iloc[TRAIN_COUNT+TEST_COUNT:TRAIN_COUNT+TEST_COUNT+VAL_COUNT, :]\n",
        "\n",
        "    return train_features, train_labels, val_features, val_labels, test_features\n",
        "\n",
        "train_features, train_labels, val_features, val_labels, test_features = preprocess_data(train, test)\n"
      ],
      "metadata": {
        "id": "Txn7JF2rzEQI"
      },
      "execution_count": 29,
      "outputs": []
    },
    {
      "cell_type": "markdown",
      "source": [
        "## Model Selection and Hyperparameter Tuning\n",
        "#### Random Forest Regressor"
      ],
      "metadata": {
        "id": "aLuTJ-gMMHIS"
      }
    },
    {
      "cell_type": "code",
      "source": [
        "# Define hyperparameter grid for Random Forest\n",
        "rf_param_grid = {\n",
        "    'n_estimators': [100, 200, 300],\n",
        "    'max_depth': [None, 10, 20]\n",
        "}\n",
        "\n",
        "# Initialize Random Forest Regressor\n",
        "rf = RandomForestRegressor(random_state=42)\n",
        "\n",
        "# Initialize GridSearchCV\n",
        "rf_grid = GridSearchCV(estimator=rf, param_grid=rf_param_grid,\n",
        "                       cv=5, scoring='neg_mean_squared_error', n_jobs=-1, verbose=2)\n",
        "\n",
        "# Fit the model\n",
        "rf_grid.fit(train_features, train_labels)\n",
        "\n",
        "# Best parameters and score\n",
        "print(\"Random Forest Best Parameters:\", rf_grid.best_params_)\n",
        "print(\"Random Forest Best RMSE:\", np.sqrt(-rf_grid.best_score_))\n"
      ],
      "metadata": {
        "colab": {
          "base_uri": "https://localhost:8080/"
        },
        "id": "lmeolXFzzGJI",
        "outputId": "4098f9d7-8be7-4c5f-ba17-8e9dce642622"
      },
      "execution_count": 30,
      "outputs": [
        {
          "output_type": "stream",
          "name": "stdout",
          "text": [
            "Fitting 5 folds for each of 9 candidates, totalling 45 fits\n",
            "Random Forest Best Parameters: {'max_depth': 20, 'n_estimators': 300}\n",
            "Random Forest Best RMSE: 0.011217130829907211\n"
          ]
        }
      ]
    },
    {
      "cell_type": "markdown",
      "source": [
        "#### Ridge Regression"
      ],
      "metadata": {
        "id": "T89J6ZXoMLce"
      }
    },
    {
      "cell_type": "code",
      "source": [
        "# Define hyperparameter grid for Ridge Regression\n",
        "ridge_param_grid = {\n",
        "    'alpha': [0.01, 0.1, 1.0, 10.0]\n",
        "}\n",
        "\n",
        "# Initialize Ridge Regression\n",
        "ridge = Ridge(random_state=42)\n",
        "\n",
        "# Initialize GridSearchCV\n",
        "ridge_grid = GridSearchCV(estimator=ridge, param_grid=ridge_param_grid,\n",
        "                          cv=5, scoring='neg_mean_squared_error', n_jobs=-1, verbose=2)\n",
        "\n",
        "# Fit the model\n",
        "ridge_grid.fit(train_features, train_labels)\n",
        "\n",
        "# Best parameters and score\n",
        "print(\"Ridge Regression Best Parameters:\", ridge_grid.best_params_)\n",
        "print(\"Ridge Regression Best RMSE:\", np.sqrt(-ridge_grid.best_score_))\n"
      ],
      "metadata": {
        "colab": {
          "base_uri": "https://localhost:8080/"
        },
        "id": "ztJHpGgj08qg",
        "outputId": "a71f49ff-51d0-4148-e367-8442c3beb8bc"
      },
      "execution_count": 31,
      "outputs": [
        {
          "output_type": "stream",
          "name": "stdout",
          "text": [
            "Fitting 5 folds for each of 4 candidates, totalling 20 fits\n",
            "Ridge Regression Best Parameters: {'alpha': 10.0}\n",
            "Ridge Regression Best RMSE: 0.011389442064996945\n"
          ]
        }
      ]
    },
    {
      "cell_type": "markdown",
      "source": [
        "#### Gradient Boosting Regressor\n"
      ],
      "metadata": {
        "id": "MRSLImLiMN9E"
      }
    },
    {
      "cell_type": "code",
      "source": [
        "# Define hyperparameter grid for Gradient Boosting Regressor\n",
        "gbr_param_grid = {\n",
        "    'n_estimators': [100, 200, 300],\n",
        "    'learning_rate': [0.01, 0.1, 0.5],\n",
        "    'max_depth': [3, 4, 5]\n",
        "}\n",
        "\n",
        "# Initialize Gradient Boosting Regressor\n",
        "gbr = GradientBoostingRegressor(random_state=42)\n",
        "\n",
        "# Initialize GridSearchCV\n",
        "gbr_grid = GridSearchCV(estimator=gbr, param_grid=gbr_param_grid,\n",
        "                        cv=5, scoring='neg_mean_squared_error', n_jobs=-1, verbose=2)\n",
        "\n",
        "# Fit the model\n",
        "gbr_grid.fit(train_features, train_labels)\n",
        "\n",
        "# Best parameters and score\n",
        "print(\"Gradient Boosting Regressor Best Parameters:\", gbr_grid.best_params_)\n",
        "print(\"Gradient Boosting Regressor Best RMSE:\", np.sqrt(-gbr_grid.best_score_))\n"
      ],
      "metadata": {
        "colab": {
          "base_uri": "https://localhost:8080/"
        },
        "id": "H505YyLo1A4R",
        "outputId": "ed0655ec-e5a6-4dda-f0fb-e4ed1a3c9b84"
      },
      "execution_count": 32,
      "outputs": [
        {
          "output_type": "stream",
          "name": "stdout",
          "text": [
            "Fitting 5 folds for each of 27 candidates, totalling 135 fits\n",
            "Gradient Boosting Regressor Best Parameters: {'learning_rate': 0.1, 'max_depth': 3, 'n_estimators': 300}\n",
            "Gradient Boosting Regressor Best RMSE: 0.010250006223359306\n"
          ]
        }
      ]
    },
    {
      "cell_type": "markdown",
      "source": [
        "## Model Evaluation and Selection\n",
        "#### Extract Best Estimators"
      ],
      "metadata": {
        "id": "PVEwKoGqMRfo"
      }
    },
    {
      "cell_type": "code",
      "source": [
        "# Extract the best models from GridSearchCV\n",
        "best_rf = rf_grid.best_estimator_\n",
        "best_ridge = ridge_grid.best_estimator_\n",
        "best_gbr = gbr_grid.best_estimator_\n"
      ],
      "metadata": {
        "id": "mIGDiOQa2liN"
      },
      "execution_count": 33,
      "outputs": []
    },
    {
      "cell_type": "code",
      "source": [
        "def evaluate_model(model, X_val, y_val):\n",
        "    \"\"\"\n",
        "    Evaluates the model on validation data and returns RMSE and MAE.\n",
        "    \"\"\"\n",
        "    predictions = model.predict(X_val)\n",
        "    rmse = np.sqrt(mean_squared_error(y_val, predictions))\n",
        "    mae = mean_absolute_error(y_val, predictions)\n",
        "    return rmse, mae\n"
      ],
      "metadata": {
        "id": "amn2mbOF2nhm"
      },
      "execution_count": 34,
      "outputs": []
    },
    {
      "cell_type": "markdown",
      "source": [
        "#### Evaluate Each Model"
      ],
      "metadata": {
        "id": "XRFHY4jjMX4r"
      }
    },
    {
      "cell_type": "code",
      "source": [
        "# Evaluate Random Forest\n",
        "rf_rmse, rf_mae = evaluate_model(best_rf, val_features, val_labels)\n",
        "print(f\"Random Forest - RMSE: {rf_rmse}, MAE: {rf_mae}\")\n",
        "\n",
        "# Evaluate Ridge Regression\n",
        "ridge_rmse, ridge_mae = evaluate_model(best_ridge, val_features, val_labels)\n",
        "print(f\"Ridge Regression - RMSE: {ridge_rmse}, MAE: {ridge_mae}\")\n",
        "\n",
        "# Evaluate Gradient Boosting Regressor\n",
        "gbr_rmse, gbr_mae = evaluate_model(best_gbr, val_features, val_labels)\n",
        "print(f\"Gradient Boosting Regressor - RMSE: {gbr_rmse}, MAE: {gbr_mae}\")\n"
      ],
      "metadata": {
        "colab": {
          "base_uri": "https://localhost:8080/"
        },
        "id": "YExtWMoM26gH",
        "outputId": "c8216080-1cc5-415d-f4d2-bddcbd0a5c53"
      },
      "execution_count": 37,
      "outputs": [
        {
          "output_type": "stream",
          "name": "stdout",
          "text": [
            "Random Forest - RMSE: 0.01018936699644481, MAE: 0.0067609015567355515\n",
            "Ridge Regression - RMSE: 0.009130553662341254, MAE: 0.0066119759085709\n",
            "Gradient Boosting Regressor - RMSE: 0.008653730489175688, MAE: 0.0057592131498410285\n"
          ]
        }
      ]
    },
    {
      "cell_type": "code",
      "source": [
        "# Create a dataframe for performance comparison\n",
        "performance = pd.DataFrame({\n",
        "    'Model': ['Random Forest', 'Ridge Regression', 'Gradient Boosting'],\n",
        "    'RMSE': [rf_rmse, ridge_rmse, gbr_rmse],\n",
        "    'MAE': [rf_mae, ridge_mae, gbr_mae]\n",
        "})\n",
        "\n",
        "performance"
      ],
      "metadata": {
        "colab": {
          "base_uri": "https://localhost:8080/",
          "height": 143
        },
        "id": "59cY6ytm3Ojy",
        "outputId": "82730211-b590-4fc9-83ed-16fd57a95d4f"
      },
      "execution_count": 59,
      "outputs": [
        {
          "output_type": "execute_result",
          "data": {
            "text/plain": [
              "               Model      RMSE       MAE\n",
              "0      Random Forest  0.010189  0.006761\n",
              "1   Ridge Regression  0.009131  0.006612\n",
              "2  Gradient Boosting  0.008654  0.005759"
            ],
            "text/html": [
              "\n",
              "  <div id=\"df-2adb720a-ba1b-4ddf-a811-5d8eec9dccff\" class=\"colab-df-container\">\n",
              "    <div>\n",
              "<style scoped>\n",
              "    .dataframe tbody tr th:only-of-type {\n",
              "        vertical-align: middle;\n",
              "    }\n",
              "\n",
              "    .dataframe tbody tr th {\n",
              "        vertical-align: top;\n",
              "    }\n",
              "\n",
              "    .dataframe thead th {\n",
              "        text-align: right;\n",
              "    }\n",
              "</style>\n",
              "<table border=\"1\" class=\"dataframe\">\n",
              "  <thead>\n",
              "    <tr style=\"text-align: right;\">\n",
              "      <th></th>\n",
              "      <th>Model</th>\n",
              "      <th>RMSE</th>\n",
              "      <th>MAE</th>\n",
              "    </tr>\n",
              "  </thead>\n",
              "  <tbody>\n",
              "    <tr>\n",
              "      <th>0</th>\n",
              "      <td>Random Forest</td>\n",
              "      <td>0.010189</td>\n",
              "      <td>0.006761</td>\n",
              "    </tr>\n",
              "    <tr>\n",
              "      <th>1</th>\n",
              "      <td>Ridge Regression</td>\n",
              "      <td>0.009131</td>\n",
              "      <td>0.006612</td>\n",
              "    </tr>\n",
              "    <tr>\n",
              "      <th>2</th>\n",
              "      <td>Gradient Boosting</td>\n",
              "      <td>0.008654</td>\n",
              "      <td>0.005759</td>\n",
              "    </tr>\n",
              "  </tbody>\n",
              "</table>\n",
              "</div>\n",
              "    <div class=\"colab-df-buttons\">\n",
              "\n",
              "  <div class=\"colab-df-container\">\n",
              "    <button class=\"colab-df-convert\" onclick=\"convertToInteractive('df-2adb720a-ba1b-4ddf-a811-5d8eec9dccff')\"\n",
              "            title=\"Convert this dataframe to an interactive table.\"\n",
              "            style=\"display:none;\">\n",
              "\n",
              "  <svg xmlns=\"http://www.w3.org/2000/svg\" height=\"24px\" viewBox=\"0 -960 960 960\">\n",
              "    <path d=\"M120-120v-720h720v720H120Zm60-500h600v-160H180v160Zm220 220h160v-160H400v160Zm0 220h160v-160H400v160ZM180-400h160v-160H180v160Zm440 0h160v-160H620v160ZM180-180h160v-160H180v160Zm440 0h160v-160H620v160Z\"/>\n",
              "  </svg>\n",
              "    </button>\n",
              "\n",
              "  <style>\n",
              "    .colab-df-container {\n",
              "      display:flex;\n",
              "      gap: 12px;\n",
              "    }\n",
              "\n",
              "    .colab-df-convert {\n",
              "      background-color: #E8F0FE;\n",
              "      border: none;\n",
              "      border-radius: 50%;\n",
              "      cursor: pointer;\n",
              "      display: none;\n",
              "      fill: #1967D2;\n",
              "      height: 32px;\n",
              "      padding: 0 0 0 0;\n",
              "      width: 32px;\n",
              "    }\n",
              "\n",
              "    .colab-df-convert:hover {\n",
              "      background-color: #E2EBFA;\n",
              "      box-shadow: 0px 1px 2px rgba(60, 64, 67, 0.3), 0px 1px 3px 1px rgba(60, 64, 67, 0.15);\n",
              "      fill: #174EA6;\n",
              "    }\n",
              "\n",
              "    .colab-df-buttons div {\n",
              "      margin-bottom: 4px;\n",
              "    }\n",
              "\n",
              "    [theme=dark] .colab-df-convert {\n",
              "      background-color: #3B4455;\n",
              "      fill: #D2E3FC;\n",
              "    }\n",
              "\n",
              "    [theme=dark] .colab-df-convert:hover {\n",
              "      background-color: #434B5C;\n",
              "      box-shadow: 0px 1px 3px 1px rgba(0, 0, 0, 0.15);\n",
              "      filter: drop-shadow(0px 1px 2px rgba(0, 0, 0, 0.3));\n",
              "      fill: #FFFFFF;\n",
              "    }\n",
              "  </style>\n",
              "\n",
              "    <script>\n",
              "      const buttonEl =\n",
              "        document.querySelector('#df-2adb720a-ba1b-4ddf-a811-5d8eec9dccff button.colab-df-convert');\n",
              "      buttonEl.style.display =\n",
              "        google.colab.kernel.accessAllowed ? 'block' : 'none';\n",
              "\n",
              "      async function convertToInteractive(key) {\n",
              "        const element = document.querySelector('#df-2adb720a-ba1b-4ddf-a811-5d8eec9dccff');\n",
              "        const dataTable =\n",
              "          await google.colab.kernel.invokeFunction('convertToInteractive',\n",
              "                                                    [key], {});\n",
              "        if (!dataTable) return;\n",
              "\n",
              "        const docLinkHtml = 'Like what you see? Visit the ' +\n",
              "          '<a target=\"_blank\" href=https://colab.research.google.com/notebooks/data_table.ipynb>data table notebook</a>'\n",
              "          + ' to learn more about interactive tables.';\n",
              "        element.innerHTML = '';\n",
              "        dataTable['output_type'] = 'display_data';\n",
              "        await google.colab.output.renderOutput(dataTable, element);\n",
              "        const docLink = document.createElement('div');\n",
              "        docLink.innerHTML = docLinkHtml;\n",
              "        element.appendChild(docLink);\n",
              "      }\n",
              "    </script>\n",
              "  </div>\n",
              "\n",
              "\n",
              "<div id=\"df-e365a42a-38fa-4f47-8e85-f1f849c9746f\">\n",
              "  <button class=\"colab-df-quickchart\" onclick=\"quickchart('df-e365a42a-38fa-4f47-8e85-f1f849c9746f')\"\n",
              "            title=\"Suggest charts\"\n",
              "            style=\"display:none;\">\n",
              "\n",
              "<svg xmlns=\"http://www.w3.org/2000/svg\" height=\"24px\"viewBox=\"0 0 24 24\"\n",
              "     width=\"24px\">\n",
              "    <g>\n",
              "        <path d=\"M19 3H5c-1.1 0-2 .9-2 2v14c0 1.1.9 2 2 2h14c1.1 0 2-.9 2-2V5c0-1.1-.9-2-2-2zM9 17H7v-7h2v7zm4 0h-2V7h2v10zm4 0h-2v-4h2v4z\"/>\n",
              "    </g>\n",
              "</svg>\n",
              "  </button>\n",
              "\n",
              "<style>\n",
              "  .colab-df-quickchart {\n",
              "      --bg-color: #E8F0FE;\n",
              "      --fill-color: #1967D2;\n",
              "      --hover-bg-color: #E2EBFA;\n",
              "      --hover-fill-color: #174EA6;\n",
              "      --disabled-fill-color: #AAA;\n",
              "      --disabled-bg-color: #DDD;\n",
              "  }\n",
              "\n",
              "  [theme=dark] .colab-df-quickchart {\n",
              "      --bg-color: #3B4455;\n",
              "      --fill-color: #D2E3FC;\n",
              "      --hover-bg-color: #434B5C;\n",
              "      --hover-fill-color: #FFFFFF;\n",
              "      --disabled-bg-color: #3B4455;\n",
              "      --disabled-fill-color: #666;\n",
              "  }\n",
              "\n",
              "  .colab-df-quickchart {\n",
              "    background-color: var(--bg-color);\n",
              "    border: none;\n",
              "    border-radius: 50%;\n",
              "    cursor: pointer;\n",
              "    display: none;\n",
              "    fill: var(--fill-color);\n",
              "    height: 32px;\n",
              "    padding: 0;\n",
              "    width: 32px;\n",
              "  }\n",
              "\n",
              "  .colab-df-quickchart:hover {\n",
              "    background-color: var(--hover-bg-color);\n",
              "    box-shadow: 0 1px 2px rgba(60, 64, 67, 0.3), 0 1px 3px 1px rgba(60, 64, 67, 0.15);\n",
              "    fill: var(--button-hover-fill-color);\n",
              "  }\n",
              "\n",
              "  .colab-df-quickchart-complete:disabled,\n",
              "  .colab-df-quickchart-complete:disabled:hover {\n",
              "    background-color: var(--disabled-bg-color);\n",
              "    fill: var(--disabled-fill-color);\n",
              "    box-shadow: none;\n",
              "  }\n",
              "\n",
              "  .colab-df-spinner {\n",
              "    border: 2px solid var(--fill-color);\n",
              "    border-color: transparent;\n",
              "    border-bottom-color: var(--fill-color);\n",
              "    animation:\n",
              "      spin 1s steps(1) infinite;\n",
              "  }\n",
              "\n",
              "  @keyframes spin {\n",
              "    0% {\n",
              "      border-color: transparent;\n",
              "      border-bottom-color: var(--fill-color);\n",
              "      border-left-color: var(--fill-color);\n",
              "    }\n",
              "    20% {\n",
              "      border-color: transparent;\n",
              "      border-left-color: var(--fill-color);\n",
              "      border-top-color: var(--fill-color);\n",
              "    }\n",
              "    30% {\n",
              "      border-color: transparent;\n",
              "      border-left-color: var(--fill-color);\n",
              "      border-top-color: var(--fill-color);\n",
              "      border-right-color: var(--fill-color);\n",
              "    }\n",
              "    40% {\n",
              "      border-color: transparent;\n",
              "      border-right-color: var(--fill-color);\n",
              "      border-top-color: var(--fill-color);\n",
              "    }\n",
              "    60% {\n",
              "      border-color: transparent;\n",
              "      border-right-color: var(--fill-color);\n",
              "    }\n",
              "    80% {\n",
              "      border-color: transparent;\n",
              "      border-right-color: var(--fill-color);\n",
              "      border-bottom-color: var(--fill-color);\n",
              "    }\n",
              "    90% {\n",
              "      border-color: transparent;\n",
              "      border-bottom-color: var(--fill-color);\n",
              "    }\n",
              "  }\n",
              "</style>\n",
              "\n",
              "  <script>\n",
              "    async function quickchart(key) {\n",
              "      const quickchartButtonEl =\n",
              "        document.querySelector('#' + key + ' button');\n",
              "      quickchartButtonEl.disabled = true;  // To prevent multiple clicks.\n",
              "      quickchartButtonEl.classList.add('colab-df-spinner');\n",
              "      try {\n",
              "        const charts = await google.colab.kernel.invokeFunction(\n",
              "            'suggestCharts', [key], {});\n",
              "      } catch (error) {\n",
              "        console.error('Error during call to suggestCharts:', error);\n",
              "      }\n",
              "      quickchartButtonEl.classList.remove('colab-df-spinner');\n",
              "      quickchartButtonEl.classList.add('colab-df-quickchart-complete');\n",
              "    }\n",
              "    (() => {\n",
              "      let quickchartButtonEl =\n",
              "        document.querySelector('#df-e365a42a-38fa-4f47-8e85-f1f849c9746f button');\n",
              "      quickchartButtonEl.style.display =\n",
              "        google.colab.kernel.accessAllowed ? 'block' : 'none';\n",
              "    })();\n",
              "  </script>\n",
              "</div>\n",
              "\n",
              "  <div id=\"id_a41fd045-b973-45fc-8c54-a38c7f569811\">\n",
              "    <style>\n",
              "      .colab-df-generate {\n",
              "        background-color: #E8F0FE;\n",
              "        border: none;\n",
              "        border-radius: 50%;\n",
              "        cursor: pointer;\n",
              "        display: none;\n",
              "        fill: #1967D2;\n",
              "        height: 32px;\n",
              "        padding: 0 0 0 0;\n",
              "        width: 32px;\n",
              "      }\n",
              "\n",
              "      .colab-df-generate:hover {\n",
              "        background-color: #E2EBFA;\n",
              "        box-shadow: 0px 1px 2px rgba(60, 64, 67, 0.3), 0px 1px 3px 1px rgba(60, 64, 67, 0.15);\n",
              "        fill: #174EA6;\n",
              "      }\n",
              "\n",
              "      [theme=dark] .colab-df-generate {\n",
              "        background-color: #3B4455;\n",
              "        fill: #D2E3FC;\n",
              "      }\n",
              "\n",
              "      [theme=dark] .colab-df-generate:hover {\n",
              "        background-color: #434B5C;\n",
              "        box-shadow: 0px 1px 3px 1px rgba(0, 0, 0, 0.15);\n",
              "        filter: drop-shadow(0px 1px 2px rgba(0, 0, 0, 0.3));\n",
              "        fill: #FFFFFF;\n",
              "      }\n",
              "    </style>\n",
              "    <button class=\"colab-df-generate\" onclick=\"generateWithVariable('performance')\"\n",
              "            title=\"Generate code using this dataframe.\"\n",
              "            style=\"display:none;\">\n",
              "\n",
              "  <svg xmlns=\"http://www.w3.org/2000/svg\" height=\"24px\"viewBox=\"0 0 24 24\"\n",
              "       width=\"24px\">\n",
              "    <path d=\"M7,19H8.4L18.45,9,17,7.55,7,17.6ZM5,21V16.75L18.45,3.32a2,2,0,0,1,2.83,0l1.4,1.43a1.91,1.91,0,0,1,.58,1.4,1.91,1.91,0,0,1-.58,1.4L9.25,21ZM18.45,9,17,7.55Zm-12,3A5.31,5.31,0,0,0,4.9,8.1,5.31,5.31,0,0,0,1,6.5,5.31,5.31,0,0,0,4.9,4.9,5.31,5.31,0,0,0,6.5,1,5.31,5.31,0,0,0,8.1,4.9,5.31,5.31,0,0,0,12,6.5,5.46,5.46,0,0,0,6.5,12Z\"/>\n",
              "  </svg>\n",
              "    </button>\n",
              "    <script>\n",
              "      (() => {\n",
              "      const buttonEl =\n",
              "        document.querySelector('#id_a41fd045-b973-45fc-8c54-a38c7f569811 button.colab-df-generate');\n",
              "      buttonEl.style.display =\n",
              "        google.colab.kernel.accessAllowed ? 'block' : 'none';\n",
              "\n",
              "      buttonEl.onclick = () => {\n",
              "        google.colab.notebook.generateWithVariable('performance');\n",
              "      }\n",
              "      })();\n",
              "    </script>\n",
              "  </div>\n",
              "\n",
              "    </div>\n",
              "  </div>\n"
            ],
            "application/vnd.google.colaboratory.intrinsic+json": {
              "type": "dataframe",
              "variable_name": "performance",
              "summary": "{\n  \"name\": \"performance\",\n  \"rows\": 3,\n  \"fields\": [\n    {\n      \"column\": \"Model\",\n      \"properties\": {\n        \"dtype\": \"string\",\n        \"num_unique_values\": 3,\n        \"samples\": [\n          \"Random Forest\",\n          \"Ridge Regression\",\n          \"Gradient Boosting\"\n        ],\n        \"semantic_type\": \"\",\n        \"description\": \"\"\n      }\n    },\n    {\n      \"column\": \"RMSE\",\n      \"properties\": {\n        \"dtype\": \"number\",\n        \"std\": 0.0007859840432435507,\n        \"min\": 0.008653730489175688,\n        \"max\": 0.01018936699644481,\n        \"num_unique_values\": 3,\n        \"samples\": [\n          0.01018936699644481,\n          0.009130553662341254,\n          0.008653730489175688\n        ],\n        \"semantic_type\": \"\",\n        \"description\": \"\"\n      }\n    },\n    {\n      \"column\": \"MAE\",\n      \"properties\": {\n        \"dtype\": \"number\",\n        \"std\": 0.0005404878715667802,\n        \"min\": 0.0057592131498410285,\n        \"max\": 0.0067609015567355515,\n        \"num_unique_values\": 3,\n        \"samples\": [\n          0.0067609015567355515,\n          0.0066119759085709,\n          0.0057592131498410285\n        ],\n        \"semantic_type\": \"\",\n        \"description\": \"\"\n      }\n    }\n  ]\n}"
            }
          },
          "metadata": {},
          "execution_count": 59
        }
      ]
    },
    {
      "cell_type": "code",
      "source": [
        "# Plot RMSE Comparison\n",
        "plt.figure(figsize=(10,6))\n",
        "sns.barplot(x='Model', y='RMSE', data=performance, palette='viridis')\n",
        "plt.title('Model Comparison - RMSE')\n",
        "plt.ylabel('Root Mean Squared Error (RMSE)')\n",
        "plt.show()\n"
      ],
      "metadata": {
        "colab": {
          "base_uri": "https://localhost:8080/",
          "height": 671
        },
        "id": "4jbf9_2l3QqQ",
        "outputId": "796a1e99-75a5-4d2b-bfcb-bd1144c8086d"
      },
      "execution_count": 39,
      "outputs": [
        {
          "output_type": "stream",
          "name": "stderr",
          "text": [
            "<ipython-input-39-14d10f912e6e>:3: FutureWarning: \n",
            "\n",
            "Passing `palette` without assigning `hue` is deprecated and will be removed in v0.14.0. Assign the `x` variable to `hue` and set `legend=False` for the same effect.\n",
            "\n",
            "  sns.barplot(x='Model', y='RMSE', data=performance, palette='viridis')\n"
          ]
        },
        {
          "output_type": "display_data",
          "data": {
            "text/plain": [
              "<Figure size 1000x600 with 1 Axes>"
            ],
            "image/png": "[encoded data removed]"
          },
          "metadata": {}
        }
      ]
    },
    {
      "cell_type": "code",
      "source": [
        "# Plot MAE Comparison\n",
        "plt.figure(figsize=(10,6))\n",
        "sns.barplot(x='Model', y='MAE', data=performance, palette='magma')\n",
        "plt.title('Model Comparison - MAE')\n",
        "plt.ylabel('Mean Absolute Error (MAE)')\n",
        "plt.show()\n"
      ],
      "metadata": {
        "colab": {
          "base_uri": "https://localhost:8080/",
          "height": 667
        },
        "id": "vbGExGVW3SxP",
        "outputId": "861eec8d-e4a3-41eb-d00d-c4d4066426b5"
      },
      "execution_count": 40,
      "outputs": [
        {
          "output_type": "stream",
          "name": "stderr",
          "text": [
            "<ipython-input-40-79dea52a3d92>:3: FutureWarning: \n",
            "\n",
            "Passing `palette` without assigning `hue` is deprecated and will be removed in v0.14.0. Assign the `x` variable to `hue` and set `legend=False` for the same effect.\n",
            "\n",
            "  sns.barplot(x='Model', y='MAE', data=performance, palette='magma')\n"
          ]
        },
        {
          "output_type": "display_data",
          "data": {
            "text/plain": [
              "<Figure size 1000x600 with 1 Axes>"
            ],
            "image/png": "[encoded data removed]"
          },
          "metadata": {}
        }
      ]
    },
    {
      "cell_type": "markdown",
      "source": [
        "## Final Model Training and Prediction\n",
        "#### Combine Training and Validation Sets"
      ],
      "metadata": {
        "id": "pPffkDK2Mdkf"
      }
    },
    {
      "cell_type": "code",
      "source": [
        "# Combine training and validation sets for final training\n",
        "full_train_features = pd.concat([train_features, val_features], axis=0)\n",
        "full_train_labels = pd.concat([train_labels, val_labels], axis=0)\n"
      ],
      "metadata": {
        "id": "JDtwYKBm3VHn"
      },
      "execution_count": 41,
      "outputs": []
    },
    {
      "cell_type": "code",
      "source": [
        "# Initialize the final model (choose the best performing model)\n",
        "final_model = best_gbr\n",
        "\n",
        "# Train the final model on the full training data\n",
        "final_model.fit(full_train_features, full_train_labels)\n",
        "\n",
        "# get feature importance\n",
        "importances = final_model.feature_importances_\n",
        "feature_importance_df = pd.DataFrame({\n",
        "    'feature': full_train_features.columns,\n",
        "    'importance': importances\n",
        "}).sort_values('importance', ascending=False)\n",
        "\n",
        "# top 20 important features\n",
        "plt.figure(figsize=(10,6))\n",
        "sns.barplot(data=feature_importance_df.head(20), x='importance', y='feature')\n",
        "plt.title('Top 20 Most Important Features')\n",
        "plt.show()"
      ],
      "metadata": {
        "colab": {
          "base_uri": "https://localhost:8080/",
          "height": 515
        },
        "id": "4i9U5gUP3X6H",
        "outputId": "66924c9b-de0c-4545-db00-df4a3bece11e"
      },
      "execution_count": 58,
      "outputs": [
        {
          "output_type": "display_data",
          "data": {
            "text/plain": [
              "<Figure size 1000x600 with 1 Axes>"
            ],
            "image/png": "[encoded data removed]"
          },
          "metadata": {}
        }
      ]
    },
    {
      "cell_type": "code",
      "source": [
        "# Cross validation RMSE\n",
        "cv_scores = cross_val_score(final_model,\n",
        "                          full_train_features,\n",
        "                          full_train_labels,\n",
        "                          cv=5,\n",
        "                          scoring='neg_mean_squared_error')\n",
        "rmse_scores = np.sqrt(-cv_scores)\n",
        "print(f\"Cross-validation RMSE: {rmse_scores.mean():.4f} (+/- {rmse_scores.std()*2:.4f})\")"
      ],
      "metadata": {
        "colab": {
          "base_uri": "https://localhost:8080/"
        },
        "id": "yDgW4Lec9nvQ",
        "outputId": "2303ee26-a6bc-4b30-9ffa-8ed874107d06"
      },
      "execution_count": 57,
      "outputs": [
        {
          "output_type": "stream",
          "name": "stdout",
          "text": [
            "Cross-validation RMSE: 0.0098 (+/- 0.0023)\n"
          ]
        }
      ]
    },
    {
      "cell_type": "markdown",
      "source": [
        "#### Predict on Test Data"
      ],
      "metadata": {
        "id": "cPnxnhapMlA3"
      }
    },
    {
      "cell_type": "code",
      "source": [
        "# Make predictions on the test set\n",
        "test_predictions = np.floor(np.expm1(final_model.predict(test_features)))\n",
        "\n",
        "# Load sample submission\n",
        "submission = pd.read_csv(\"sample_submission.csv\")\n",
        "\n",
        "# Assign predictions to the 'SalePrice' column\n",
        "submission['SalePrice'] = test_predictions\n",
        "\n",
        "# Save predicted results to the result file\n",
        "submission.to_csv(\"result.csv\", index=False)\n",
        "print(\"Result file 'result.csv' has been created.\")\n"
      ],
      "metadata": {
        "colab": {
          "base_uri": "https://localhost:8080/"
        },
        "id": "T0BTN1mc3bZh",
        "outputId": "7b3517db-29af-4447-ea5c-e69305b00623"
      },
      "execution_count": 56,
      "outputs": [
        {
          "output_type": "stream",
          "name": "stdout",
          "text": [
            "Result file 'result.csv' has been created.\n"
          ]
        }
      ]
    },
    {
      "cell_type": "markdown",
      "source": [
        "## Stretch Goals: Innovation and Model Blending\n",
        "#### Model Blending"
      ],
      "metadata": {
        "id": "hLqM2YgZMo0t"
      }
    },
    {
      "cell_type": "code",
      "source": [
        "def predict_blended(models, test_features):\n",
        "    \"\"\"\n",
        "    Blends predictions from multiple models with specified weights.\n",
        "    \"\"\"\n",
        "    rf, ridge, gbr = models\n",
        "    blended_predictions = (0.25 * rf.predict(test_features) +\n",
        "                           0.25 * ridge.predict(test_features) +\n",
        "                           0.5 * gbr.predict(test_features))\n",
        "    return blended_predictions\n",
        "\n",
        "# Retrain models on full data\n",
        "final_rf = best_rf.fit(full_train_features, full_train_labels)\n",
        "final_ridge = best_ridge.fit(full_train_features, full_train_labels)\n",
        "final_gbr = best_gbr.fit(full_train_features, full_train_labels)\n",
        "\n",
        "# Blended predictions\n",
        "blended_predictions = np.floor(np.expm1(predict_blended([final_rf, final_ridge, final_gbr], test_features)))\n",
        "\n",
        "blended_result = pd.read_csv(\"sample_submission.csv\")\n",
        "blended_result['SalePrice'] = blended_predictions\n",
        "blended_result.to_csv(\"blended_result.csv\", index=False)\n",
        "print(\"Blended submission file 'blended_result.csv' has been created.\")\n"
      ],
      "metadata": {
        "colab": {
          "base_uri": "https://localhost:8080/"
        },
        "id": "b81lcm3y3gzf",
        "outputId": "5cb74713-c189-4249-e9b2-cf2333881a8f"
      },
      "execution_count": 62,
      "outputs": [
        {
          "output_type": "stream",
          "name": "stdout",
          "text": [
            "Blended Model RMSE on Validation Set: 0.00433952512537079\n",
            "Blended submission file 'blended_result.csv' has been created.\n"
          ]
        }
      ]
    },
    {
      "cell_type": "markdown",
      "source": [
        "#### Evaluate Each Model"
      ],
      "metadata": {
        "id": "tAuh6jcvMxiD"
      }
    },
    {
      "cell_type": "code",
      "source": [
        "# Evaluate Random Forest\n",
        "final_rf_rmse, final_rf_mae = evaluate_model(final_rf, val_features, val_labels)\n",
        "print(f\"Final Random Forest - RMSE: {final_rf_rmse}, MAE: {final_rf_mae}\")\n",
        "\n",
        "# Evaluate Ridge Regression\n",
        "final_ridge_rmse, final_ridge_mae = evaluate_model(final_ridge, val_features, val_labels)\n",
        "print(f\"Final Ridge Regression - RMSE: {final_ridge_rmse}, MAE: {final_ridge_mae}\")\n",
        "\n",
        "# Evaluate Gradient Boosting Regressor\n",
        "final_gbr_rmse, final_gbr_mae = evaluate_model(final_gbr, val_features, val_labels)\n",
        "print(f\"Final Gradient Boosting Regressor - RMSE: {final_gbr_rmse}, MAE: {final_gbr_rmse}\")\n"
      ],
      "metadata": {
        "colab": {
          "base_uri": "https://localhost:8080/"
        },
        "id": "E5arsPZNwwAs",
        "outputId": "3c9e2a2e-808a-45db-c4eb-cbe1c5dae5a1"
      },
      "execution_count": 77,
      "outputs": [
        {
          "output_type": "stream",
          "name": "stdout",
          "text": [
            "Final Random Forest - RMSE: 0.0037907662648051788, MAE: 0.0025941507421428536\n",
            "Final Ridge Regression - RMSE: 0.007842088524827828, MAE: 0.005779155315332002\n",
            "Final Gradient Boosting Regressor - RMSE: 0.0039043225676571253, MAE: 0.0039043225676571253\n"
          ]
        }
      ]
    },
    {
      "cell_type": "code",
      "source": [
        "# Create a dataframe for performance comparison\n",
        "final_performance = pd.DataFrame({\n",
        "    'Model': ['Random Forest', 'Ridge Regression', 'Gradient Boosting', 'Final RF', 'Final RR', 'Final GB'],\n",
        "    'RMSE': [rf_rmse, ridge_rmse, gbr_rmse, final_rf_rmse, final_ridge_rmse, final_gbr_rmse],\n",
        "    'MAE': [rf_rmse, ridge_mae, gbr_mae, final_rf_mae, final_ridge_mae, final_gbr_mae]\n",
        "})\n",
        "\n",
        "plt.figure(figsize=(10,6))\n",
        "sns.barplot(x='Model', y='RMSE', data=final_performance, palette='viridis')\n",
        "plt.title('Final Model Comparison - RMSE')\n",
        "plt.ylabel('Root Mean Squared Error (RMSE)')\n",
        "plt.show()"
      ],
      "metadata": {
        "colab": {
          "base_uri": "https://localhost:8080/",
          "height": 671
        },
        "id": "w9y8a45JH0zr",
        "outputId": "e57074f6-655d-4189-8b14-84d6fe5a4014"
      },
      "execution_count": 74,
      "outputs": [
        {
          "output_type": "stream",
          "name": "stderr",
          "text": [
            "<ipython-input-74-18a9d5396d7e>:9: FutureWarning: \n",
            "\n",
            "Passing `palette` without assigning `hue` is deprecated and will be removed in v0.14.0. Assign the `x` variable to `hue` and set `legend=False` for the same effect.\n",
            "\n",
            "  sns.barplot(x='Model', y='RMSE', data=final_performance, palette='viridis')\n"
          ]
        },
        {
          "output_type": "display_data",
          "data": {
            "text/plain": [
              "<Figure size 1000x600 with 1 Axes>"
            ],
            "image/png": "[encoded data removed]"
          },
          "metadata": {}
        }
      ]
    },
    {
      "cell_type": "code",
      "source": [
        "# Plot MAE Comparison\n",
        "plt.figure(figsize=(10,6))\n",
        "sns.barplot(x='Model', y='MAE', data=final_performance, palette='magma')\n",
        "plt.title('Final Model Comparison - MAE')\n",
        "plt.ylabel('Mean Absolute Error (MAE)')\n",
        "plt.show()"
      ],
      "metadata": {
        "colab": {
          "base_uri": "https://localhost:8080/",
          "height": 667
        },
        "id": "SO4G4tZeGp1I",
        "outputId": "5f965d3e-fe49-4f3b-e555-2ad239cdd1e2"
      },
      "execution_count": 73,
      "outputs": [
        {
          "output_type": "stream",
          "name": "stderr",
          "text": [
            "<ipython-input-73-1ca7156101d9>:3: FutureWarning: \n",
            "\n",
            "Passing `palette` without assigning `hue` is deprecated and will be removed in v0.14.0. Assign the `x` variable to `hue` and set `legend=False` for the same effect.\n",
            "\n",
            "  sns.barplot(x='Model', y='MAE', data=final_performance, palette='magma')\n"
          ]
        },
        {
          "output_type": "display_data",
          "data": {
            "text/plain": [
              "<Figure size 1000x600 with 1 Axes>"
            ],
            "image/png": "[encoded data removed]"
          },
          "metadata": {}
        }
      ]
    },
    {
      "cell_type": "code",
      "source": [],
      "metadata": {
        "id": "duJV2N-pHx_7"
      },
      "execution_count": null,
      "outputs": []
    }
  ]
}